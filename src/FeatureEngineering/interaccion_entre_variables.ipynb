{
 "cells": [
  {
   "cell_type": "markdown",
   "metadata": {},
   "source": [
    "# 01-DataTable - Set de Train"
   ]
  },
  {
   "cell_type": "code",
   "execution_count": 4,
   "metadata": {},
   "outputs": [
    {
     "data": {
      "text/html": "<style type='text/css'>\n.datatable table.frame { margin-bottom: 0; }\n.datatable table.frame thead { border-bottom: none; }\n.datatable table.frame tr.coltypes td {  color: #FFFFFF;  line-height: 6px;  padding: 0 0.5em;}\n.datatable .bool    { background: #DDDD99; }\n.datatable .object  { background: #565656; }\n.datatable .int     { background: #5D9E5D; }\n.datatable .float   { background: #4040CC; }\n.datatable .str     { background: #CC4040; }\n.datatable .time    { background: #40CC40; }\n.datatable .row_index {  background: var(--jp-border-color3);  border-right: 1px solid var(--jp-border-color0);  color: var(--jp-ui-font-color3);  font-size: 9px;}\n.datatable .frame tbody td { text-align: left; }\n.datatable .frame tr.coltypes .row_index {  background: var(--jp-border-color0);}\n.datatable th:nth-child(2) { padding-left: 12px; }\n.datatable .hellipsis {  color: var(--jp-cell-editor-border-color);}\n.datatable .vellipsis {  background: var(--jp-layout-color0);  color: var(--jp-cell-editor-border-color);}\n.datatable .na {  color: var(--jp-cell-editor-border-color);  font-size: 80%;}\n.datatable .sp {  opacity: 0.25;}\n.datatable .footer { font-size: 9px; }\n.datatable .frame_dimensions {  background: var(--jp-border-color3);  border-top: 1px solid var(--jp-border-color0);  color: var(--jp-ui-font-color3);  display: inline-block;  opacity: 0.6;  padding: 1px 10px 1px 5px;}\n</style>\n",
      "text/plain": "<IPython.core.display.HTML object>"
     },
     "metadata": {},
     "output_type": "display_data"
    }
   ],
   "source": [
    "import pandas as pd\n",
    "import joblib\n",
    "#import dask.dataframe as dd\n",
    "from datatable import dt, f"
   ]
  },
  {
   "cell_type": "code",
   "execution_count": 5,
   "metadata": {},
   "outputs": [],
   "source": [
    "data_pd = pd.read_csv(\"/home/manuel/Escritorio/ITBA/03-Minería_de_Datos/01-GIT/datasets/paquete_premium_202011.csv\")\n",
    "data = dt.fread(\"/home/manuel/Escritorio/ITBA/03-Minería_de_Datos/01-GIT/datasets/paquete_premium_202011.csv\")"
   ]
  },
  {
   "cell_type": "code",
   "execution_count": 16,
   "metadata": {},
   "outputs": [],
   "source": [
    "data_train = data[:,78:158]\n",
    "data_train_pd = data_pd.iloc[:,78:158]\n",
    "data_init = data[:,0:78]\n",
    "data_label = data[:,158:159]"
   ]
  },
  {
   "cell_type": "code",
   "execution_count": 7,
   "metadata": {},
   "outputs": [],
   "source": [
    "data_train_final = data_train.copy()"
   ]
  },
  {
   "cell_type": "code",
   "execution_count": 8,
   "metadata": {},
   "outputs": [],
   "source": [
    "columns = list(data_train_pd.columns)"
   ]
  },
  {
   "cell_type": "code",
   "execution_count": 9,
   "metadata": {},
   "outputs": [],
   "source": [
    "columns_final = columns.copy()"
   ]
  },
  {
   "cell_type": "code",
   "execution_count": 10,
   "metadata": {},
   "outputs": [],
   "source": [
    "import itertools\n",
    "combinaciones = list(itertools.combinations(data_train_pd.columns,2))"
   ]
  },
  {
   "cell_type": "code",
   "execution_count": 15,
   "metadata": {},
   "outputs": [
    {
     "name": "stdout",
     "output_type": "stream",
     "text": [
      "iteraciones 0\n",
      "----------------------------------\n",
      "iteraciones 500\n",
      "----------------------------------\n",
      "iteraciones 1000\n",
      "----------------------------------\n",
      "iteraciones 1500\n",
      "----------------------------------\n",
      "iteraciones 2000\n",
      "----------------------------------\n",
      "iteraciones 2500\n",
      "----------------------------------\n",
      "iteraciones 3000\n",
      "----------------------------------\n",
      "por armar el csv\n",
      "(159388, 3240)\n"
     ]
    }
   ],
   "source": [
    "for i,comb in enumerate(combinaciones):\n",
    "    col1 = comb[0]\n",
    "    col2 = comb[1]\n",
    "    col_name = comb[0] + \"_\" + comb[1]\n",
    "    data_train_final[col_name] = data_train_final[:,{col_name: f[col1] * f[col2]}]\n",
    "\n",
    "    if (i % 500 == 0):\n",
    "        print(\"iteraciones\",i)\n",
    "        print(\"----------------------------------\")\n",
    "\n",
    "print(\"por armar el csv\")\n",
    "print(data_train_final.shape)"
   ]
  },
  {
   "cell_type": "code",
   "execution_count": 19,
   "metadata": {},
   "outputs": [],
   "source": [
    "data_init.cbind(data_train_final)\n",
    "data_init.cbind(data_label)"
   ]
  },
  {
   "cell_type": "code",
   "execution_count": 25,
   "metadata": {},
   "outputs": [],
   "source": [
    "data_init.to_csv(\"data_feature_engineering.csv\")"
   ]
  },
  {
   "cell_type": "markdown",
   "metadata": {},
   "source": [
    "# 02-Set de Test"
   ]
  },
  {
   "cell_type": "code",
   "execution_count": 1,
   "metadata": {},
   "outputs": [
    {
     "data": {
      "text/html": "<style type='text/css'>\n.datatable table.frame { margin-bottom: 0; }\n.datatable table.frame thead { border-bottom: none; }\n.datatable table.frame tr.coltypes td {  color: #FFFFFF;  line-height: 6px;  padding: 0 0.5em;}\n.datatable .bool    { background: #DDDD99; }\n.datatable .object  { background: #565656; }\n.datatable .int     { background: #5D9E5D; }\n.datatable .float   { background: #4040CC; }\n.datatable .str     { background: #CC4040; }\n.datatable .time    { background: #40CC40; }\n.datatable .row_index {  background: var(--jp-border-color3);  border-right: 1px solid var(--jp-border-color0);  color: var(--jp-ui-font-color3);  font-size: 9px;}\n.datatable .frame tbody td { text-align: left; }\n.datatable .frame tr.coltypes .row_index {  background: var(--jp-border-color0);}\n.datatable th:nth-child(2) { padding-left: 12px; }\n.datatable .hellipsis {  color: var(--jp-cell-editor-border-color);}\n.datatable .vellipsis {  background: var(--jp-layout-color0);  color: var(--jp-cell-editor-border-color);}\n.datatable .na {  color: var(--jp-cell-editor-border-color);  font-size: 80%;}\n.datatable .sp {  opacity: 0.25;}\n.datatable .footer { font-size: 9px; }\n.datatable .frame_dimensions {  background: var(--jp-border-color3);  border-top: 1px solid var(--jp-border-color0);  color: var(--jp-ui-font-color3);  display: inline-block;  opacity: 0.6;  padding: 1px 10px 1px 5px;}\n</style>\n",
      "text/plain": "<IPython.core.display.HTML object>"
     },
     "metadata": {},
     "output_type": "display_data"
    }
   ],
   "source": [
    "import pandas as pd\n",
    "import joblib\n",
    "#import dask.dataframe as dd\n",
    "from datatable import dt, f"
   ]
  },
  {
   "cell_type": "code",
   "execution_count": 2,
   "metadata": {},
   "outputs": [],
   "source": [
    "data_pd = pd.read_csv(\"/home/manuel/Escritorio/ITBA/03-Minería_de_Datos/01-GIT/datasets/paquete_premium_202101.csv\")\n",
    "data = dt.fread(\"/home/manuel/Escritorio/ITBA/03-Minería_de_Datos/01-GIT/datasets/paquete_premium_202101.csv\")"
   ]
  },
  {
   "cell_type": "code",
   "execution_count": 6,
   "metadata": {},
   "outputs": [
    {
     "data": {
      "text/html": "<div>\n<style scoped>\n    .dataframe tbody tr th:only-of-type {\n        vertical-align: middle;\n    }\n\n    .dataframe tbody tr th {\n        vertical-align: top;\n    }\n\n    .dataframe thead th {\n        text-align: right;\n    }\n</style>\n<table border=\"1\" class=\"dataframe\">\n  <thead>\n    <tr style=\"text-align: right;\">\n      <th></th>\n      <th>Visa_cadelantosefectivo</th>\n      <th>Visa_mpagominimo</th>\n      <th>clase_ternaria</th>\n    </tr>\n  </thead>\n  <tbody>\n    <tr>\n      <th>0</th>\n      <td>0.0</td>\n      <td>0.0</td>\n      <td>NaN</td>\n    </tr>\n    <tr>\n      <th>1</th>\n      <td>0.0</td>\n      <td>2000.7</td>\n      <td>NaN</td>\n    </tr>\n    <tr>\n      <th>2</th>\n      <td>0.0</td>\n      <td>421.2</td>\n      <td>NaN</td>\n    </tr>\n    <tr>\n      <th>3</th>\n      <td>0.0</td>\n      <td>5007.6</td>\n      <td>NaN</td>\n    </tr>\n    <tr>\n      <th>4</th>\n      <td>0.0</td>\n      <td>13267.8</td>\n      <td>NaN</td>\n    </tr>\n    <tr>\n      <th>...</th>\n      <td>...</td>\n      <td>...</td>\n      <td>...</td>\n    </tr>\n    <tr>\n      <th>160602</th>\n      <td>NaN</td>\n      <td>0.0</td>\n      <td>NaN</td>\n    </tr>\n    <tr>\n      <th>160603</th>\n      <td>NaN</td>\n      <td>0.0</td>\n      <td>NaN</td>\n    </tr>\n    <tr>\n      <th>160604</th>\n      <td>NaN</td>\n      <td>0.0</td>\n      <td>NaN</td>\n    </tr>\n    <tr>\n      <th>160605</th>\n      <td>NaN</td>\n      <td>0.0</td>\n      <td>NaN</td>\n    </tr>\n    <tr>\n      <th>160606</th>\n      <td>NaN</td>\n      <td>0.0</td>\n      <td>NaN</td>\n    </tr>\n  </tbody>\n</table>\n<p>160607 rows × 3 columns</p>\n</div>",
      "text/plain": "        Visa_cadelantosefectivo  Visa_mpagominimo  clase_ternaria\n0                           0.0               0.0             NaN\n1                           0.0            2000.7             NaN\n2                           0.0             421.2             NaN\n3                           0.0            5007.6             NaN\n4                           0.0           13267.8             NaN\n...                         ...               ...             ...\n160602                      NaN               0.0             NaN\n160603                      NaN               0.0             NaN\n160604                      NaN               0.0             NaN\n160605                      NaN               0.0             NaN\n160606                      NaN               0.0             NaN\n\n[160607 rows x 3 columns]"
     },
     "execution_count": 6,
     "metadata": {},
     "output_type": "execute_result"
    }
   ],
   "source": [
    "data_pd.iloc[:,156:159]"
   ]
  },
  {
   "cell_type": "code",
   "execution_count": 3,
   "metadata": {},
   "outputs": [],
   "source": [
    "data_train = data[:,78:158]\n",
    "data_train_pd = data_pd.iloc[:,78:158]\n",
    "data_init = data[:,0:78]\n",
    "data_label = data[:,158:159]"
   ]
  },
  {
   "cell_type": "code",
   "execution_count": 4,
   "metadata": {},
   "outputs": [],
   "source": [
    "data_train_final = data_train.copy()"
   ]
  },
  {
   "cell_type": "code",
   "execution_count": 5,
   "metadata": {},
   "outputs": [],
   "source": [
    "columns = list(data_train_pd.columns)"
   ]
  },
  {
   "cell_type": "code",
   "execution_count": 6,
   "metadata": {},
   "outputs": [],
   "source": [
    "columns_final = columns.copy()"
   ]
  },
  {
   "cell_type": "code",
   "execution_count": 7,
   "metadata": {},
   "outputs": [],
   "source": [
    "import itertools\n",
    "combinaciones = list(itertools.combinations(data_train_pd.columns,2))"
   ]
  },
  {
   "cell_type": "code",
   "execution_count": 8,
   "metadata": {},
   "outputs": [
    {
     "name": "stdout",
     "output_type": "stream",
     "text": [
      "iteraciones 0\n",
      "----------------------------------\n",
      "iteraciones 500\n",
      "----------------------------------\n",
      "iteraciones 1000\n",
      "----------------------------------\n",
      "iteraciones 1500\n",
      "----------------------------------\n",
      "iteraciones 2000\n",
      "----------------------------------\n",
      "iteraciones 2500\n",
      "----------------------------------\n",
      "iteraciones 3000\n",
      "----------------------------------\n",
      "por armar el csv\n",
      "(160607, 3240)\n"
     ]
    }
   ],
   "source": [
    "for i,comb in enumerate(combinaciones):\n",
    "    col1 = comb[0]\n",
    "    col2 = comb[1]\n",
    "    col_name = comb[0] + \"_\" + comb[1]\n",
    "    data_train_final[col_name] = data_train_final[:,{col_name: f[col1] * f[col2]}]\n",
    "\n",
    "    if (i % 500 == 0):\n",
    "        print(\"iteraciones\",i)\n",
    "        print(\"----------------------------------\")\n",
    "\n",
    "print(\"por armar el csv\")\n",
    "print(data_train_final.shape)"
   ]
  },
  {
   "cell_type": "code",
   "execution_count": 9,
   "metadata": {},
   "outputs": [],
   "source": [
    "data_init.cbind(data_train_final)\n",
    "data_init.cbind(data_label)\n",
    "data_init.to_csv(\"data_feature_engineering_TEST.csv\")"
   ]
  },
  {
   "cell_type": "code",
   "execution_count": null,
   "metadata": {},
   "outputs": [],
   "source": []
  }
 ],
 "metadata": {
  "kernelspec": {
   "display_name": "Python 3.9.6 64-bit",
   "name": "python396jvsc74a57bd0d87bf00c2ea55003992cf03c294ca17a225d07ba3b0454dddd6632b6b1c41641"
  },
  "language_info": {
   "codemirror_mode": {
    "name": "ipython",
    "version": 3
   },
   "file_extension": ".py",
   "mimetype": "text/x-python",
   "name": "python",
   "nbconvert_exporter": "python",
   "pygments_lexer": "ipython3",
   "version": "3.9.6"
  },
  "metadata": {
   "interpreter": {
    "hash": "d87bf00c2ea55003992cf03c294ca17a225d07ba3b0454dddd6632b6b1c41641"
   }
  },
  "orig_nbformat": 2
 },
 "nbformat": 4,
 "nbformat_minor": 2
}